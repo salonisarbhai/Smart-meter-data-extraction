{
  "nbformat": 4,
  "nbformat_minor": 0,
  "metadata": {
    "colab": {
      "name": "binarization.ipynb",
      "provenance": []
    },
    "kernelspec": {
      "name": "python3",
      "display_name": "Python 3"
    }
  },
  "cells": [
    {
      "cell_type": "code",
      "metadata": {
        "id": "qbh0-j7N3YUw",
        "outputId": "db506a2a-fe2c-4b2d-f4ab-fd786ab07342",
        "colab": {
          "base_uri": "https://localhost:8080/",
          "height": 68
        }
      },
      "source": [
        "import cv2\n",
        "\n",
        "im = cv2.imread('meter1854.jpg')\n",
        "\n",
        "print(type(im))\n",
        "# <class 'numpy.ndarray'>\n",
        "\n",
        "print(im.shape)\n",
        "# (225, 400, 3)\n",
        "\n",
        "print(im.dtype)\n",
        "# uint8"
      ],
      "execution_count": null,
      "outputs": [
        {
          "output_type": "stream",
          "text": [
            "<class 'numpy.ndarray'>\n",
            "(4032, 3024, 3)\n",
            "uint8\n"
          ],
          "name": "stdout"
        }
      ]
    },
    {
      "cell_type": "code",
      "metadata": {
        "id": "MJsx09wi6GnM",
        "outputId": "b9cf8934-d680-4dfa-fd05-41d3a7101711",
        "colab": {
          "base_uri": "https://localhost:8080/",
          "height": 34
        }
      },
      "source": [
        "cv2.imwrite('meter1854.jpg', im)"
      ],
      "execution_count": null,
      "outputs": [
        {
          "output_type": "execute_result",
          "data": {
            "text/plain": [
              "True"
            ]
          },
          "metadata": {
            "tags": []
          },
          "execution_count": 11
        }
      ]
    },
    {
      "cell_type": "code",
      "metadata": {
        "id": "X8fJ_I-96a4F",
        "outputId": "01466b69-f8ac-444b-c805-7fbd7c8cadc2",
        "colab": {
          "base_uri": "https://localhost:8080/",
          "height": 34
        }
      },
      "source": [
        "import numpy as np\n",
        "from PIL import Image\n",
        "\n",
        "im = np.array(Image.open('meter1854.jpg').convert('L').resize((256, 256)))\n",
        "print(type(im))"
      ],
      "execution_count": null,
      "outputs": [
        {
          "output_type": "stream",
          "text": [
            "<class 'numpy.ndarray'>\n"
          ],
          "name": "stdout"
        }
      ]
    },
    {
      "cell_type": "code",
      "metadata": {
        "id": "5F5BTrfi6lX5",
        "outputId": "3fea1335-c041-4003-bd54-53fc3550366d",
        "colab": {
          "base_uri": "https://localhost:8080/",
          "height": 136
        }
      },
      "source": [
        "th = 128\n",
        "im_bool = im > th\n",
        "print(im_bool)"
      ],
      "execution_count": null,
      "outputs": [
        {
          "output_type": "stream",
          "text": [
            "[[False False False ... False False False]\n",
            " [False False False ... False False False]\n",
            " [False False False ... False False False]\n",
            " ...\n",
            " [False False False ... False False False]\n",
            " [False False False ... False False False]\n",
            " [False False False ... False False False]]\n"
          ],
          "name": "stdout"
        }
      ]
    },
    {
      "cell_type": "code",
      "metadata": {
        "id": "VRIaTQUO6vds",
        "outputId": "fe10585e-bdf3-44cc-f327-42b59d3f610f",
        "colab": {
          "base_uri": "https://localhost:8080/",
          "height": 136
        }
      },
      "source": [
        "im_bin_128 = (im > th) * 255\n",
        "print(im_bin_128)"
      ],
      "execution_count": null,
      "outputs": [
        {
          "output_type": "stream",
          "text": [
            "[[0 0 0 ... 0 0 0]\n",
            " [0 0 0 ... 0 0 0]\n",
            " [0 0 0 ... 0 0 0]\n",
            " ...\n",
            " [0 0 0 ... 0 0 0]\n",
            " [0 0 0 ... 0 0 0]\n",
            " [0 0 0 ... 0 0 0]]\n"
          ],
          "name": "stdout"
        }
      ]
    },
    {
      "cell_type": "code",
      "metadata": {
        "id": "8ODhdwrd6zhT"
      },
      "source": [
        "im_bin_64 = (im > 64) * 255\n",
        "im_bin_192 = (im > 192) * 255\n",
        "\n",
        "im_bin = np.concatenate((im_bin_64, im_bin_128, im_bin_192), axis=1)\n",
        "Image.fromarray(np.uint8(im_bin)).save('meter1854.jpg')"
      ],
      "execution_count": null,
      "outputs": []
    }
  ]
}