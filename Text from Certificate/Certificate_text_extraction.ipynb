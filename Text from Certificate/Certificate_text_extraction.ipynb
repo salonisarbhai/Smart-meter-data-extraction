{
  "nbformat": 4,
  "nbformat_minor": 0,
  "metadata": {
    "colab": {
      "name": "Certificate text extraction.ipynb",
      "provenance": []
    },
    "kernelspec": {
      "name": "python3",
      "display_name": "Python 3"
    }
  },
  "cells": [
    {
      "cell_type": "code",
      "metadata": {
        "id": "urA42dxzeTng"
      },
      "source": [
        "!sudo apt install tesseract-ocr\n",
        "!pip install pytesseract\n",
        "\n"
      ],
      "execution_count": null,
      "outputs": []
    },
    {
      "cell_type": "code",
      "metadata": {
        "id": "-bUxIVZRf63E"
      },
      "source": [
        "import pytesseract\n",
        "import shutil\n",
        "import os\n",
        "import random\n",
        "try:\n",
        " from PIL import Image\n",
        "except ImportError:\n",
        " import Image\n",
        "\n"
      ],
      "execution_count": null,
      "outputs": []
    },
    {
      "cell_type": "code",
      "metadata": {
        "id": "VjbSkZv1f9BA",
        "outputId": "426b62a5-c2b9-4491-f5e8-5236285507ed",
        "colab": {
          "base_uri": "https://localhost:8080/"
        }
      },
      "source": [
        "image_path_in_colab='/content/certificate5.png'       #path of image\n",
        "extractedInformation = pytesseract.image_to_string(Image.open(image_path_in_colab))\n",
        "#print(extractedInformation)\n",
        "\n",
        "#saving obtained text from image\n",
        "arr = []\n",
        "arr.append(extractedInformation)\n",
        "print(arr)"
      ],
      "execution_count": null,
      "outputs": [
        {
          "output_type": "stream",
          "text": [
            "['        \\n   \\n \\n\\n \\n\\nTHE\\n\\n3\" International Conference on °\\nBuilding Strategic Partnerships\\ntowards Collaborative International Learning\\n4/5 / 6 April’19\\n\\nCertificate\\n\\nThis is to certify that\\n\\nMr. Rahul Joshi\\n\\nattended the conference organised by\\nSymbiosis International (Deemed University) and Association of Indian Universities\\n\\n \\n\\n \\n\\n  \\n \\n \\n\\n \\n\\nVg? : Unde bho\\n° Dr. Rajani Gupte ‘dya Yeravdekar\\noe ‘Symbiosis International (Deemed University) Campus, Pune, Maharashtra, india\\n\\n \\n\\x0c']\n"
          ],
          "name": "stdout"
        }
      ]
    }
  ]
}