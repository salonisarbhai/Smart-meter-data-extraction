{
  "nbformat": 4,
  "nbformat_minor": 0,
  "metadata": {
    "colab": {
      "name": "ic_smartmeter.ipynb",
      "provenance": [],
      "authorship_tag": "ABX9TyPFoypE3bvjjdmGtMYJ5oGr",
      "include_colab_link": true
    },
    "kernelspec": {
      "name": "python3",
      "display_name": "Python 3"
    }
  },
  "cells": [
    {
      "cell_type": "markdown",
      "metadata": {
        "id": "view-in-github",
        "colab_type": "text"
      },
      "source": [
        "<a href=\"https://colab.research.google.com/github/salonisarbhai/Smart-meter-data-extraction/blob/master/ic_smartmeter.ipynb\" target=\"_parent\"><img src=\"https://colab.research.google.com/assets/colab-badge.svg\" alt=\"Open In Colab\"/></a>"
      ]
    },
    {
      "cell_type": "code",
      "metadata": {
        "id": "uulFv_egiu82"
      },
      "source": [
        "from sklearn.cluster import DBSCAN\n",
        "from sklearn.preprocessing import StandardScaler\n",
        "import numpy as np\n",
        "import pandas as pd\n",
        "import matplotlib.pyplot as plt"
      ],
      "execution_count": null,
      "outputs": []
    },
    {
      "cell_type": "code",
      "metadata": {
        "id": "mxc3sLIbi44K",
        "colab": {
          "base_uri": "https://localhost:8080/"
        },
        "outputId": "f54ccf82-323f-4e26-b8e2-bc1334323bff"
      },
      "source": [
        "df = pd.read_csv(\"meter - Sheet1 (2).csv\");\n",
        "\n",
        "print(df.head())"
      ],
      "execution_count": null,
      "outputs": [
        {
          "output_type": "stream",
          "text": [
            "   Sr. no.   Reading\n",
            "0         1    20505\n",
            "1         2     7125\n",
            "2         3      699\n",
            "3         4    13003\n",
            "4         5    24634\n"
          ],
          "name": "stdout"
        }
      ]
    },
    {
      "cell_type": "code",
      "metadata": {
        "id": "VDEBOuWWjCf1",
        "colab": {
          "base_uri": "https://localhost:8080/"
        },
        "outputId": "0082b76b-b427-441b-e78f-34d5bbeeed0f"
      },
      "source": [
        "print(df.info())"
      ],
      "execution_count": null,
      "outputs": [
        {
          "output_type": "stream",
          "text": [
            "<class 'pandas.core.frame.DataFrame'>\n",
            "RangeIndex: 19 entries, 0 to 18\n",
            "Data columns (total 2 columns):\n",
            " #   Column    Non-Null Count  Dtype\n",
            "---  ------    --------------  -----\n",
            " 0   Sr. no.   19 non-null     int64\n",
            " 1   Reading   19 non-null     int64\n",
            "dtypes: int64(2)\n",
            "memory usage: 432.0 bytes\n",
            "None\n"
          ],
          "name": "stdout"
        }
      ]
    },
    {
      "cell_type": "code",
      "metadata": {
        "id": "umZwagw5jM6u",
        "colab": {
          "base_uri": "https://localhost:8080/"
        },
        "outputId": "2e399816-e8d0-4a68-8dbf-ec574309d3fd"
      },
      "source": [
        "print(df.describe())"
      ],
      "execution_count": null,
      "outputs": [
        {
          "output_type": "stream",
          "text": [
            "        Sr. no.        Reading\n",
            "count  19.000000     19.000000\n",
            "mean   10.000000  18318.210526\n",
            "std     5.627314  20402.446903\n",
            "min     1.000000      1.000000\n",
            "25%     5.500000   7903.000000\n",
            "50%    10.000000  13413.000000\n",
            "75%    14.500000  20014.000000\n",
            "max    19.000000  93195.000000\n"
          ],
          "name": "stdout"
        }
      ]
    },
    {
      "cell_type": "code",
      "metadata": {
        "id": "moK26XK12sCp",
        "colab": {
          "base_uri": "https://localhost:8080/"
        },
        "outputId": "c2065ad4-623b-4f26-c535-308a87b830d5"
      },
      "source": [
        "import pandas as pd\n",
        "# Read in the csv file\n",
        "data = pd.read_csv(\"meter - Sheet1 (2).csv\")\n",
        "print (data)"
      ],
      "execution_count": null,
      "outputs": [
        {
          "output_type": "stream",
          "text": [
            "    Sr. no.   Reading\n",
            "0          1    20505\n",
            "1          2     7125\n",
            "2          3      699\n",
            "3          4    13003\n",
            "4          5    24634\n",
            "5          6    11921\n",
            "6          7    19523\n",
            "7          8        1\n",
            "8          9     4196\n",
            "9         10    11488\n",
            "10        11    17731\n",
            "11        12    39245\n",
            "12        13    22463\n",
            "13        14    13413\n",
            "14        15    93195\n",
            "15        16    18054\n",
            "16        17     4904\n",
            "17        18     8681\n",
            "18        19    17265\n"
          ],
          "name": "stdout"
        }
      ]
    },
    {
      "cell_type": "code",
      "metadata": {
        "id": "JyeRj_L03Dam",
        "colab": {
          "base_uri": "https://localhost:8080/"
        },
        "outputId": "431b2cac-41d6-4df8-b36b-13853aa1e0a7"
      },
      "source": [
        "import pandas as pd\n",
        "\n",
        "# The kmeans algorithm is implemented in the scikits-learn library\n",
        "from sklearn.cluster import KMeans\n",
        "\n",
        "# Create a kmeans model on our data, using 2 clusters. random_state helps ensure that the algorithm returns the same results each time.\n",
        "kmeans_model = KMeans(n_clusters=2, random_state=1).fit(data)\n",
        "# These are our fitted labels for clusters -- the first cluster has label 0, and the second has label 1.\n",
        "labels = kmeans_model.labels_\n",
        "\n",
        "# The clustering looks pretty good!\n",
        "\n",
        "print(pd.crosstab(labels, data[\"Reading\"]))"
      ],
      "execution_count": null,
      "outputs": [
        {
          "output_type": "stream",
          "text": [
            "Reading  1      699    4196   4904   7125   ...  20505  22463  24634  39245  93195\n",
            "row_0                                       ...                                   \n",
            "0            0      0      0      0      0  ...      0      0      0      0      1\n",
            "1            1      1      1      1      1  ...      1      1      1      1      0\n",
            "\n",
            "[2 rows x 19 columns]\n"
          ],
          "name": "stdout"
        }
      ]
    },
    {
      "cell_type": "code",
      "metadata": {
        "id": "Vw7mseLc3rJH",
        "colab": {
          "base_uri": "https://localhost:8080/"
        },
        "outputId": "023d2bba-aa8c-4a65-a5ce-44ce2544a65c"
      },
      "source": [
        "democratic_oddballs = data[(labels == 1) & (data[\"Reading\"] == \"D\")]\n",
        "\n",
        "# It looks like Reid has abstained a lot, which changed his cluster.\n",
        "# Manchin seems like a genuine oddball voter.\n",
        "print(democratic_oddballs)"
      ],
      "execution_count": null,
      "outputs": [
        {
          "output_type": "stream",
          "text": [
            "Empty DataFrame\n",
            "Columns: [Sr. no. , Reading]\n",
            "Index: []\n"
          ],
          "name": "stdout"
        }
      ]
    },
    {
      "cell_type": "code",
      "metadata": {
        "id": "Qj3JcP1Y4A8l",
        "colab": {
          "base_uri": "https://localhost:8080/",
          "height": 265
        },
        "outputId": "eee1900e-b941-48e5-c0a7-bba430a31a18"
      },
      "source": [
        "import matplotlib.pyplot as plt\n",
        "from sklearn.decomposition import PCA\n",
        "pca_2 = PCA(2)\n",
        "\n",
        "# Turn the data into two columns with PCA\n",
        "plot_columns = pca_2.fit_transform(data)\n",
        "\n",
        "# Plot senators based on the two dimensions, and shade by cluster label\n",
        "# You can see the plot by clicking \"plots\" to the bottom right\n",
        "plt.scatter(x,y)\n",
        "plt.show()"
      ],
      "execution_count": null,
      "outputs": [
        {
          "output_type": "display_data",
          "data": {
            "image/png": "[encoded data removed]",
            "text/plain": [
              "<Figure size 432x288 with 1 Axes>"
            ]
          },
          "metadata": {
            "tags": [],
            "needs_background": "light"
          }
        }
      ]
    }
  ]
}